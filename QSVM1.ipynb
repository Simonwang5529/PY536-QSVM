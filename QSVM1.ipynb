{
 "cells": [
  {
   "cell_type": "code",
   "execution_count": 2,
   "metadata": {},
   "outputs": [],
   "source": [
    "import numpy as np\n",
    "import time\n",
    "import matplotlib.pyplot as plt\n",
    "import pandas as pd\n",
    "# Scikit-learn imports\n",
    "from sklearn import datasets\n",
    "from sklearn.model_selection import train_test_split\n",
    "from sklearn.svm import SVC\n",
    "from sklearn.preprocessing import StandardScaler, LabelEncoder\n",
    "from sklearn.metrics import accuracy_score, classification_report\n",
    "\n",
    "# Qiskit impor\n",
    "from qiskit.primitives import Sampler, Estimator\n",
    "\n",
    "# Assuming 'backend' is already defined\n",
    "# For sampling:\n",
    "from qiskit_machine_learning.algorithms import QSVC\n",
    "from qiskit import QuantumCircuit\n",
    "from qiskit_aer import Aer\n",
    "from qiskit.circuit.library import ZZFeatureMap\n",
    "from qiskit.primitives import Estimator as QiskitEstimator\n",
    "\n",
    "from qiskit_machine_learning.kernels import TrainableFidelityQuantumKernel\n",
    "from qiskit_machine_learning.kernels.algorithms import QuantumKernelTrainer\n",
    "from qiskit_machine_learning.utils.loss_functions import SVCLoss\n"
   ]
  },
  {
   "cell_type": "markdown",
   "metadata": {},
   "source": []
  },
  {
   "cell_type": "code",
   "execution_count": 3,
   "metadata": {},
   "outputs": [
    {
     "name": "stdout",
     "output_type": "stream",
     "text": [
      "Successfully imported!\n",
      "0.33.2\n"
     ]
    },
    {
     "ename": "RequestsApiError",
     "evalue": "'403 Client Error: Forbidden for url: https://auth.quantum-computing.ibm.com/api/users/loginWithToken. Your IBM Quantum account has been disabled. Learn more: https://ibm.biz/BdfaME., Error code: 3485.'",
     "output_type": "error",
     "traceback": [
      "\u001b[0;31m---------------------------------------------------------------------------\u001b[0m",
      "\u001b[0;31mHTTPError\u001b[0m                                 Traceback (most recent call last)",
      "File \u001b[0;32m~/path/to/venv/lib/python3.12/site-packages/qiskit_ibm_runtime/api/session.py:329\u001b[0m, in \u001b[0;36mRetrySession.request\u001b[0;34m(self, method, url, bare, **kwargs)\u001b[0m\n\u001b[1;32m    328\u001b[0m     response \u001b[38;5;241m=\u001b[39m \u001b[38;5;28msuper\u001b[39m()\u001b[38;5;241m.\u001b[39mrequest(method, final_url, headers\u001b[38;5;241m=\u001b[39mheaders, \u001b[38;5;241m*\u001b[39m\u001b[38;5;241m*\u001b[39mkwargs)\n\u001b[0;32m--> 329\u001b[0m     \u001b[43mresponse\u001b[49m\u001b[38;5;241;43m.\u001b[39;49m\u001b[43mraise_for_status\u001b[49m\u001b[43m(\u001b[49m\u001b[43m)\u001b[49m\n\u001b[1;32m    330\u001b[0m \u001b[38;5;28;01mexcept\u001b[39;00m RequestException \u001b[38;5;28;01mas\u001b[39;00m ex:\n\u001b[1;32m    331\u001b[0m     \u001b[38;5;66;03m# Wrap the requests exceptions into a IBM Q custom one, for\u001b[39;00m\n\u001b[1;32m    332\u001b[0m     \u001b[38;5;66;03m# compatibility.\u001b[39;00m\n",
      "File \u001b[0;32m~/path/to/venv/lib/python3.12/site-packages/requests/models.py:1024\u001b[0m, in \u001b[0;36mResponse.raise_for_status\u001b[0;34m(self)\u001b[0m\n\u001b[1;32m   1023\u001b[0m \u001b[38;5;28;01mif\u001b[39;00m http_error_msg:\n\u001b[0;32m-> 1024\u001b[0m     \u001b[38;5;28;01mraise\u001b[39;00m HTTPError(http_error_msg, response\u001b[38;5;241m=\u001b[39m\u001b[38;5;28mself\u001b[39m)\n",
      "\u001b[0;31mHTTPError\u001b[0m: 403 Client Error: Forbidden for url: https://auth.quantum-computing.ibm.com/api/users/loginWithToken",
      "\nThe above exception was the direct cause of the following exception:\n",
      "\u001b[0;31mRequestsApiError\u001b[0m                          Traceback (most recent call last)",
      "Cell \u001b[0;32mIn[3], line 15\u001b[0m\n\u001b[1;32m     12\u001b[0m QiskitRuntimeService\u001b[38;5;241m.\u001b[39msave_account(channel\u001b[38;5;241m=\u001b[39m\u001b[38;5;124m\"\u001b[39m\u001b[38;5;124mibm_quantum\u001b[39m\u001b[38;5;124m\"\u001b[39m, token\u001b[38;5;241m=\u001b[39m\u001b[38;5;124m\"\u001b[39m\u001b[38;5;124mb11763c075e1456a7c3fadca5817c1d82f8fdb5a13cab3d7de7a58c2c437b6efee63880b64d2e5c08c893154ce5908b670a8d2ac4eaeec12f3df55180a5f8701\u001b[39m\u001b[38;5;124m\"\u001b[39m, set_as_default\u001b[38;5;241m=\u001b[39m\u001b[38;5;28;01mTrue\u001b[39;00m, overwrite\u001b[38;5;241m=\u001b[39m\u001b[38;5;28;01mTrue\u001b[39;00m)\n\u001b[1;32m     14\u001b[0m \u001b[38;5;66;03m# Load saved credentials\u001b[39;00m\n\u001b[0;32m---> 15\u001b[0m service \u001b[38;5;241m=\u001b[39m \u001b[43mQiskitRuntimeService\u001b[49m\u001b[43m(\u001b[49m\u001b[43m)\u001b[49m\n\u001b[1;32m     16\u001b[0m service\u001b[38;5;241m.\u001b[39mbackends()\n",
      "File \u001b[0;32m~/path/to/venv/lib/python3.12/site-packages/qiskit_ibm_runtime/qiskit_runtime_service.py:161\u001b[0m, in \u001b[0;36mQiskitRuntimeService.__init__\u001b[0;34m(self, channel, token, url, filename, name, instance, proxies, verify, private_endpoint, url_resolver)\u001b[0m\n\u001b[1;32m    159\u001b[0m     \u001b[38;5;28mself\u001b[39m\u001b[38;5;241m.\u001b[39m_backend_allowed_list \u001b[38;5;241m=\u001b[39m \u001b[38;5;28mself\u001b[39m\u001b[38;5;241m.\u001b[39m_discover_cloud_backends()\n\u001b[1;32m    160\u001b[0m \u001b[38;5;28;01melse\u001b[39;00m:\n\u001b[0;32m--> 161\u001b[0m     auth_client \u001b[38;5;241m=\u001b[39m \u001b[38;5;28;43mself\u001b[39;49m\u001b[38;5;241;43m.\u001b[39;49m\u001b[43m_authenticate_ibm_quantum_account\u001b[49m\u001b[43m(\u001b[49m\u001b[38;5;28;43mself\u001b[39;49m\u001b[38;5;241;43m.\u001b[39;49m\u001b[43m_client_params\u001b[49m\u001b[43m)\u001b[49m\n\u001b[1;32m    162\u001b[0m     \u001b[38;5;66;03m# Update client parameters to use authenticated values.\u001b[39;00m\n\u001b[1;32m    163\u001b[0m     \u001b[38;5;28mself\u001b[39m\u001b[38;5;241m.\u001b[39m_client_params\u001b[38;5;241m.\u001b[39murl \u001b[38;5;241m=\u001b[39m auth_client\u001b[38;5;241m.\u001b[39mcurrent_service_urls()[\u001b[38;5;124m\"\u001b[39m\u001b[38;5;124mservices\u001b[39m\u001b[38;5;124m\"\u001b[39m][\u001b[38;5;124m\"\u001b[39m\u001b[38;5;124mruntime\u001b[39m\u001b[38;5;124m\"\u001b[39m]\n",
      "File \u001b[0;32m~/path/to/venv/lib/python3.12/site-packages/qiskit_ibm_runtime/qiskit_runtime_service.py:289\u001b[0m, in \u001b[0;36mQiskitRuntimeService._authenticate_ibm_quantum_account\u001b[0;34m(self, client_params)\u001b[0m\n\u001b[1;32m    282\u001b[0m \u001b[38;5;28;01mif\u001b[39;00m \u001b[38;5;129;01mnot\u001b[39;00m version_info[\u001b[38;5;124m\"\u001b[39m\u001b[38;5;124mnew_api\u001b[39m\u001b[38;5;124m\"\u001b[39m] \u001b[38;5;129;01mor\u001b[39;00m \u001b[38;5;124m\"\u001b[39m\u001b[38;5;124mapi-auth\u001b[39m\u001b[38;5;124m\"\u001b[39m \u001b[38;5;129;01mnot\u001b[39;00m \u001b[38;5;129;01min\u001b[39;00m version_info:\n\u001b[1;32m    283\u001b[0m     \u001b[38;5;28;01mraise\u001b[39;00m IBMInputValueError(\n\u001b[1;32m    284\u001b[0m         \u001b[38;5;124m\"\u001b[39m\u001b[38;5;124mThe URL specified (\u001b[39m\u001b[38;5;132;01m{}\u001b[39;00m\u001b[38;5;124m) is not an IBM Quantum authentication URL. \u001b[39m\u001b[38;5;124m\"\u001b[39m\n\u001b[1;32m    285\u001b[0m         \u001b[38;5;124m\"\u001b[39m\u001b[38;5;124mValid authentication URL: \u001b[39m\u001b[38;5;132;01m{}\u001b[39;00m\u001b[38;5;124m.\u001b[39m\u001b[38;5;124m\"\u001b[39m\u001b[38;5;241m.\u001b[39mformat(\n\u001b[1;32m    286\u001b[0m             client_params\u001b[38;5;241m.\u001b[39murl, QISKIT_IBM_RUNTIME_API_URL\n\u001b[1;32m    287\u001b[0m         )\n\u001b[1;32m    288\u001b[0m     )\n\u001b[0;32m--> 289\u001b[0m auth_client \u001b[38;5;241m=\u001b[39m \u001b[43mAuthClient\u001b[49m\u001b[43m(\u001b[49m\u001b[43mclient_params\u001b[49m\u001b[43m)\u001b[49m\n\u001b[1;32m    290\u001b[0m service_urls \u001b[38;5;241m=\u001b[39m auth_client\u001b[38;5;241m.\u001b[39mcurrent_service_urls()\n\u001b[1;32m    291\u001b[0m \u001b[38;5;28;01mif\u001b[39;00m \u001b[38;5;129;01mnot\u001b[39;00m service_urls\u001b[38;5;241m.\u001b[39mget(\u001b[38;5;124m\"\u001b[39m\u001b[38;5;124mservices\u001b[39m\u001b[38;5;124m\"\u001b[39m, {})\u001b[38;5;241m.\u001b[39mget(SERVICE_NAME):\n",
      "File \u001b[0;32m~/path/to/venv/lib/python3.12/site-packages/qiskit_ibm_runtime/api/clients/auth.py:39\u001b[0m, in \u001b[0;36mAuthClient.__init__\u001b[0;34m(self, client_params)\u001b[0m\n\u001b[1;32m     36\u001b[0m \u001b[38;5;28mself\u001b[39m\u001b[38;5;241m.\u001b[39m_service_urls \u001b[38;5;241m=\u001b[39m {}  \u001b[38;5;66;03m# type: ignore[var-annotated]\u001b[39;00m\n\u001b[1;32m     38\u001b[0m \u001b[38;5;28mself\u001b[39m\u001b[38;5;241m.\u001b[39mauth_api \u001b[38;5;241m=\u001b[39m Api(RetrySession(\u001b[38;5;28mself\u001b[39m\u001b[38;5;241m.\u001b[39mauth_url, \u001b[38;5;241m*\u001b[39m\u001b[38;5;241m*\u001b[39mclient_params\u001b[38;5;241m.\u001b[39mconnection_parameters()))\n\u001b[0;32m---> 39\u001b[0m \u001b[38;5;28mself\u001b[39m\u001b[38;5;241m.\u001b[39mbase_api \u001b[38;5;241m=\u001b[39m \u001b[38;5;28;43mself\u001b[39;49m\u001b[38;5;241;43m.\u001b[39;49m\u001b[43m_init_service_clients\u001b[49m\u001b[43m(\u001b[49m\u001b[38;5;241;43m*\u001b[39;49m\u001b[38;5;241;43m*\u001b[39;49m\u001b[43mclient_params\u001b[49m\u001b[38;5;241;43m.\u001b[39;49m\u001b[43mconnection_parameters\u001b[49m\u001b[43m(\u001b[49m\u001b[43m)\u001b[49m\u001b[43m)\u001b[49m\n",
      "File \u001b[0;32m~/path/to/venv/lib/python3.12/site-packages/qiskit_ibm_runtime/api/clients/auth.py:51\u001b[0m, in \u001b[0;36mAuthClient._init_service_clients\u001b[0;34m(self, **request_kwargs)\u001b[0m\n\u001b[1;32m     42\u001b[0m \u001b[38;5;250m\u001b[39m\u001b[38;5;124;03m\"\"\"Initialize the clients used for communicating with the API.\u001b[39;00m\n\u001b[1;32m     43\u001b[0m \n\u001b[1;32m     44\u001b[0m \u001b[38;5;124;03mArgs:\u001b[39;00m\n\u001b[0;32m   (...)\u001b[0m\n\u001b[1;32m     48\u001b[0m \u001b[38;5;124;03m    Client for the API server.\u001b[39;00m\n\u001b[1;32m     49\u001b[0m \u001b[38;5;124;03m\"\"\"\u001b[39;00m\n\u001b[1;32m     50\u001b[0m \u001b[38;5;66;03m# Request an access token.\u001b[39;00m\n\u001b[0;32m---> 51\u001b[0m \u001b[38;5;28mself\u001b[39m\u001b[38;5;241m.\u001b[39maccess_token \u001b[38;5;241m=\u001b[39m \u001b[38;5;28;43mself\u001b[39;49m\u001b[38;5;241;43m.\u001b[39;49m\u001b[43m_request_access_token\u001b[49m\u001b[43m(\u001b[49m\u001b[43m)\u001b[49m\n\u001b[1;32m     52\u001b[0m \u001b[38;5;28mself\u001b[39m\u001b[38;5;241m.\u001b[39mauth_api\u001b[38;5;241m.\u001b[39msession\u001b[38;5;241m.\u001b[39mauth \u001b[38;5;241m=\u001b[39m QuantumAuth(access_token\u001b[38;5;241m=\u001b[39m\u001b[38;5;28mself\u001b[39m\u001b[38;5;241m.\u001b[39maccess_token)\n\u001b[1;32m     53\u001b[0m \u001b[38;5;28mself\u001b[39m\u001b[38;5;241m.\u001b[39m_service_urls \u001b[38;5;241m=\u001b[39m \u001b[38;5;28mself\u001b[39m\u001b[38;5;241m.\u001b[39muser_urls()\n",
      "File \u001b[0;32m~/path/to/venv/lib/python3.12/site-packages/qiskit_ibm_runtime/api/clients/auth.py:77\u001b[0m, in \u001b[0;36mAuthClient._request_access_token\u001b[0;34m(self)\u001b[0m\n\u001b[1;32m     67\u001b[0m \u001b[38;5;250m\u001b[39m\u001b[38;5;124;03m\"\"\"Request a new access token from the API authentication service.\u001b[39;00m\n\u001b[1;32m     68\u001b[0m \n\u001b[1;32m     69\u001b[0m \u001b[38;5;124;03mReturns:\u001b[39;00m\n\u001b[0;32m   (...)\u001b[0m\n\u001b[1;32m     74\u001b[0m \u001b[38;5;124;03m    RequestsApiError: If the request failed.\u001b[39;00m\n\u001b[1;32m     75\u001b[0m \u001b[38;5;124;03m\"\"\"\u001b[39;00m\n\u001b[1;32m     76\u001b[0m \u001b[38;5;28;01mtry\u001b[39;00m:\n\u001b[0;32m---> 77\u001b[0m     response \u001b[38;5;241m=\u001b[39m \u001b[38;5;28;43mself\u001b[39;49m\u001b[38;5;241;43m.\u001b[39;49m\u001b[43mauth_api\u001b[49m\u001b[38;5;241;43m.\u001b[39;49m\u001b[43mlogin\u001b[49m\u001b[43m(\u001b[49m\u001b[38;5;28;43mself\u001b[39;49m\u001b[38;5;241;43m.\u001b[39;49m\u001b[43mapi_token\u001b[49m\u001b[43m)\u001b[49m\n\u001b[1;32m     78\u001b[0m     \u001b[38;5;28;01mreturn\u001b[39;00m response[\u001b[38;5;124m\"\u001b[39m\u001b[38;5;124mid\u001b[39m\u001b[38;5;124m\"\u001b[39m]\n\u001b[1;32m     79\u001b[0m \u001b[38;5;28;01mexcept\u001b[39;00m RequestsApiError \u001b[38;5;28;01mas\u001b[39;00m ex:\n\u001b[1;32m     80\u001b[0m     \u001b[38;5;66;03m# Get the original exception that raised.\u001b[39;00m\n",
      "File \u001b[0;32m~/path/to/venv/lib/python3.12/site-packages/qiskit_ibm_runtime/api/rest/root.py:92\u001b[0m, in \u001b[0;36mApi.login\u001b[0;34m(self, api_token)\u001b[0m\n\u001b[1;32m     83\u001b[0m \u001b[38;5;250m\u001b[39m\u001b[38;5;124;03m\"\"\"Login with token.\u001b[39;00m\n\u001b[1;32m     84\u001b[0m \n\u001b[1;32m     85\u001b[0m \u001b[38;5;124;03mArgs:\u001b[39;00m\n\u001b[0;32m   (...)\u001b[0m\n\u001b[1;32m     89\u001b[0m \u001b[38;5;124;03m    JSON response.\u001b[39;00m\n\u001b[1;32m     90\u001b[0m \u001b[38;5;124;03m\"\"\"\u001b[39;00m\n\u001b[1;32m     91\u001b[0m url \u001b[38;5;241m=\u001b[39m \u001b[38;5;28mself\u001b[39m\u001b[38;5;241m.\u001b[39mget_url(\u001b[38;5;124m\"\u001b[39m\u001b[38;5;124mlogin\u001b[39m\u001b[38;5;124m\"\u001b[39m)\n\u001b[0;32m---> 92\u001b[0m \u001b[38;5;28;01mreturn\u001b[39;00m \u001b[38;5;28;43mself\u001b[39;49m\u001b[38;5;241;43m.\u001b[39;49m\u001b[43msession\u001b[49m\u001b[38;5;241;43m.\u001b[39;49m\u001b[43mpost\u001b[49m\u001b[43m(\u001b[49m\u001b[43murl\u001b[49m\u001b[43m,\u001b[49m\u001b[43m \u001b[49m\u001b[43mjson\u001b[49m\u001b[38;5;241;43m=\u001b[39;49m\u001b[43m{\u001b[49m\u001b[38;5;124;43m\"\u001b[39;49m\u001b[38;5;124;43mapiToken\u001b[39;49m\u001b[38;5;124;43m\"\u001b[39;49m\u001b[43m:\u001b[49m\u001b[43m \u001b[49m\u001b[43mapi_token\u001b[49m\u001b[43m}\u001b[49m\u001b[43m)\u001b[49m\u001b[38;5;241m.\u001b[39mjson()\n",
      "File \u001b[0;32m~/path/to/venv/lib/python3.12/site-packages/requests/sessions.py:637\u001b[0m, in \u001b[0;36mSession.post\u001b[0;34m(self, url, data, json, **kwargs)\u001b[0m\n\u001b[1;32m    626\u001b[0m \u001b[38;5;28;01mdef\u001b[39;00m \u001b[38;5;21mpost\u001b[39m(\u001b[38;5;28mself\u001b[39m, url, data\u001b[38;5;241m=\u001b[39m\u001b[38;5;28;01mNone\u001b[39;00m, json\u001b[38;5;241m=\u001b[39m\u001b[38;5;28;01mNone\u001b[39;00m, \u001b[38;5;241m*\u001b[39m\u001b[38;5;241m*\u001b[39mkwargs):\n\u001b[1;32m    627\u001b[0m \u001b[38;5;250m    \u001b[39m\u001b[38;5;124mr\u001b[39m\u001b[38;5;124;03m\"\"\"Sends a POST request. Returns :class:`Response` object.\u001b[39;00m\n\u001b[1;32m    628\u001b[0m \n\u001b[1;32m    629\u001b[0m \u001b[38;5;124;03m    :param url: URL for the new :class:`Request` object.\u001b[39;00m\n\u001b[0;32m   (...)\u001b[0m\n\u001b[1;32m    634\u001b[0m \u001b[38;5;124;03m    :rtype: requests.Response\u001b[39;00m\n\u001b[1;32m    635\u001b[0m \u001b[38;5;124;03m    \"\"\"\u001b[39;00m\n\u001b[0;32m--> 637\u001b[0m     \u001b[38;5;28;01mreturn\u001b[39;00m \u001b[38;5;28;43mself\u001b[39;49m\u001b[38;5;241;43m.\u001b[39;49m\u001b[43mrequest\u001b[49m\u001b[43m(\u001b[49m\u001b[38;5;124;43m\"\u001b[39;49m\u001b[38;5;124;43mPOST\u001b[39;49m\u001b[38;5;124;43m\"\u001b[39;49m\u001b[43m,\u001b[49m\u001b[43m \u001b[49m\u001b[43murl\u001b[49m\u001b[43m,\u001b[49m\u001b[43m \u001b[49m\u001b[43mdata\u001b[49m\u001b[38;5;241;43m=\u001b[39;49m\u001b[43mdata\u001b[49m\u001b[43m,\u001b[49m\u001b[43m \u001b[49m\u001b[43mjson\u001b[49m\u001b[38;5;241;43m=\u001b[39;49m\u001b[43mjson\u001b[49m\u001b[43m,\u001b[49m\u001b[43m \u001b[49m\u001b[38;5;241;43m*\u001b[39;49m\u001b[38;5;241;43m*\u001b[39;49m\u001b[43mkwargs\u001b[49m\u001b[43m)\u001b[49m\n",
      "File \u001b[0;32m~/path/to/venv/lib/python3.12/site-packages/qiskit_ibm_runtime/api/session.py:351\u001b[0m, in \u001b[0;36mRetrySession.request\u001b[0;34m(self, method, url, bare, **kwargs)\u001b[0m\n\u001b[1;32m    349\u001b[0m     \u001b[38;5;28;01mif\u001b[39;00m status_code \u001b[38;5;241m==\u001b[39m \u001b[38;5;241m401\u001b[39m:\n\u001b[1;32m    350\u001b[0m         \u001b[38;5;28;01mraise\u001b[39;00m IBMNotAuthorizedError(message) \u001b[38;5;28;01mfrom\u001b[39;00m \u001b[38;5;21;01mex\u001b[39;00m\n\u001b[0;32m--> 351\u001b[0m     \u001b[38;5;28;01mraise\u001b[39;00m RequestsApiError(message, status_code) \u001b[38;5;28;01mfrom\u001b[39;00m \u001b[38;5;21;01mex\u001b[39;00m\n\u001b[1;32m    353\u001b[0m \u001b[38;5;28;01mreturn\u001b[39;00m response\n",
      "\u001b[0;31mRequestsApiError\u001b[0m: '403 Client Error: Forbidden for url: https://auth.quantum-computing.ibm.com/api/users/loginWithToken. Your IBM Quantum account has been disabled. Learn more: https://ibm.biz/BdfaME., Error code: 3485.'"
     ]
    }
   ],
   "source": [
    "'''try:\n",
    "    import qiskit_ibm_runtime\n",
    "    print(\"Successfully imported!\")\n",
    "    print(qiskit_ibm_runtime.__version__)\n",
    "except ModuleNotFoundError as e:\n",
    "    print(f\"Import failed: {e}\")\n",
    "    import sys\n",
    "    print(\"Python path:\", sys.path)\n",
    "from qiskit_ibm_runtime import QiskitRuntimeService\n",
    "\n",
    "\n",
    "QiskitRuntimeService.save_account(channel=\"ibm_quantum\", token=\"b11763c075e1456a7c3fadca5817c1d82f8fdb5a13cab3d7de7a58c2c437b6efee63880b64d2e5c08c893154ce5908b670a8d2ac4eaeec12f3df55180a5f8701\", set_as_default=True, overwrite=True)\n",
    " \n",
    "# Load saved credentials\n",
    "service = QiskitRuntimeService()\n",
    "service.backends()'''"
   ]
  },
  {
   "cell_type": "code",
   "execution_count": 3,
   "metadata": {},
   "outputs": [
    {
     "name": "stdout",
     "output_type": "stream",
     "text": [
      "Files in Current Directory: ['PY536-2024F-HW1.pdf', '.DS_Store', '12_Support_Vector_Machines.pdf', 'QSVM1.ipynb', '_Quantum_Machine_Learning_for_Image_Classification_.pdf', 'Quantum Support Vector Machines.ipynb', 'path', 'Swarm_Behaviour.csv', '.ipynb_checkpoints', 'heart_2020_cleaned.csv', 'quantum-computation-and-quantum-information-nielsen-chuang.pdf', 'qsvm.py', 'QSVM_local.ipynb']\n"
     ]
    }
   ],
   "source": [
    "import os\n",
    "\n",
    "# Specify the new directory path\n",
    "new_directory = '/Users/simonwang/Desktop/PY536'\n",
    "# Change to the new directory\n",
    "os.chdir(new_directory)\n",
    "# Print the current working directory to confirm the change\n",
    "print(\"Files in Current Directory:\", os.listdir('.'))"
   ]
  },
  {
   "cell_type": "code",
   "execution_count": 5,
   "metadata": {},
   "outputs": [
    {
     "name": "stdout",
     "output_type": "stream",
     "text": [
      "       HeartDisease    BMI Smoking AlcoholDrinking Stroke  PhysicalHealth  \\\n",
      "271884           No  27.63     Yes              No     No             0.0   \n",
      "270361           No  21.95      No              No     No             0.0   \n",
      "219060           No  31.32     Yes              No     No             0.0   \n",
      "24010            No  40.35      No              No     No            30.0   \n",
      "181930           No  35.61     Yes              No     No            30.0   \n",
      "\n",
      "        MentalHealth DiffWalking     Sex AgeCategory      Race Diabetic  \\\n",
      "271884          25.0          No  Female       25-29  Hispanic       No   \n",
      "270361          20.0          No  Female       30-34     White       No   \n",
      "219060           0.0          No  Female       40-44     White       No   \n",
      "24010            0.0          No  Female       65-69     White       No   \n",
      "181930          30.0         Yes  Female       60-64     White       No   \n",
      "\n",
      "       PhysicalActivity  GenHealth  SleepTime Asthma KidneyDisease SkinCancer  \n",
      "271884              Yes  Very good        7.0     No            No         No  \n",
      "270361              Yes  Excellent        6.0     No            No        Yes  \n",
      "219060              Yes  Very good        6.0    Yes            No         No  \n",
      "24010                No       Good        8.0     No            No         No  \n",
      "181930               No       Fair        4.0    Yes            No        Yes  \n",
      "<class 'pandas.core.frame.DataFrame'>\n",
      "Index: 100 entries, 271884 to 246352\n",
      "Data columns (total 18 columns):\n",
      " #   Column            Non-Null Count  Dtype  \n",
      "---  ------            --------------  -----  \n",
      " 0   HeartDisease      100 non-null    object \n",
      " 1   BMI               100 non-null    float64\n",
      " 2   Smoking           100 non-null    object \n",
      " 3   AlcoholDrinking   100 non-null    object \n",
      " 4   Stroke            100 non-null    object \n",
      " 5   PhysicalHealth    100 non-null    float64\n",
      " 6   MentalHealth      100 non-null    float64\n",
      " 7   DiffWalking       100 non-null    object \n",
      " 8   Sex               100 non-null    object \n",
      " 9   AgeCategory       100 non-null    object \n",
      " 10  Race              100 non-null    object \n",
      " 11  Diabetic          100 non-null    object \n",
      " 12  PhysicalActivity  100 non-null    object \n",
      " 13  GenHealth         100 non-null    object \n",
      " 14  SleepTime         100 non-null    float64\n",
      " 15  Asthma            100 non-null    object \n",
      " 16  KidneyDisease     100 non-null    object \n",
      " 17  SkinCancer        100 non-null    object \n",
      "dtypes: float64(4), object(14)\n",
      "memory usage: 14.8+ KB\n",
      "None\n",
      "Training set shape: (80, 17), Testing set shape: (20, 17)\n"
     ]
    }
   ],
   "source": [
    "\n",
    "# Load the new dataset\n",
    "data = pd.read_csv('heart_2020_cleaned.csv')\n",
    "data= data.sample(n=100, random_state=42)\n",
    "# Inspect the first few rows to understand the data structure\n",
    "print(data.head())\n",
    "\n",
    "# Inspect data types and check for missing values\n",
    "print(data.info())\n",
    "\n",
    "# Preprocessing: Convert categorical variables to numeric\n",
    "# We'll use LabelEncoder for simplicity here; you might choose one-hot encoding or other methods depending on the specific needs\n",
    "label_encoders = {}\n",
    "for column in data.select_dtypes(include=['object']).columns:\n",
    "    le = LabelEncoder()\n",
    "    data[column] = le.fit_transform(data[column].astype(str))\n",
    "    label_encoders[column] = le\n",
    "\n",
    "# Assuming the last column is the target variable\n",
    "target = 'HeartDisease'  # You should set this according to your dataset's specific target variable\n",
    "\n",
    "# Split the dataset into features and the target variable\n",
    "X = data.drop(target, axis=1)\n",
    "y = data[target]\n",
    "\n",
    "# Scale the features\n",
    "scaler = StandardScaler()\n",
    "X_scaled = scaler.fit_transform(X)\n",
    "\n",
    "# Split the data into training and testing sets\n",
    "X_train, X_test, y_train, y_test = train_test_split(X_scaled, y, test_size=0.2, random_state=42)\n",
    "\n",
    "# Now X_train, X_test, y_train, and y_test are ready to be used for model training\n",
    "print(f\"Training set shape: {X_train.shape}, Testing set shape: {X_test.shape}\")"
   ]
  },
  {
   "cell_type": "code",
   "execution_count": 6,
   "metadata": {},
   "outputs": [],
   "source": [
    "def classical_svm(X_train, X_test, y_train, y_test, kernel='rbf', scale_data=False, verbose=False):\n",
    "    \"\"\"\n",
    "    Train and evaluate a classical Support Vector Machine with optional data scaling.\n",
    "    \n",
    "    Args:\n",
    "        X_train, X_test (array-like): Training and testing feature sets.\n",
    "        y_train, y_test (array-like): Training and testing labels.\n",
    "        kernel (str): Kernel type for the SVM. Default is 'rbf'.\n",
    "        scale_data (bool): If True, scale features before training. Default is False.\n",
    "        verbose (bool): If True, print additional details during processing. Default is False.\n",
    "    \n",
    "    Returns:\n",
    "        Dictionary with performance metrics and training time.\n",
    "    \"\"\"\n",
    "    start_time = time.time()\n",
    "    \n",
    "    # Optionally scale the data\n",
    "    if scale_data:\n",
    "        scaler = StandardScaler()\n",
    "        X_train = scaler.fit_transform(X_train)\n",
    "        X_test = scaler.transform(X_test)\n",
    "        if verbose:\n",
    "            print(\"Data scaling applied.\")\n",
    "    \n",
    "    # Create and train SVM\n",
    "    svm_classifier = SVC(kernel=kernel)\n",
    "    svm_classifier.fit(X_train, y_train)\n",
    "    \n",
    "    if verbose:\n",
    "        print(\"SVM training completed.\")\n",
    "    \n",
    "    # Predict and evaluate\n",
    "    y_pred = svm_classifier.predict(X_test)\n",
    "    end_time = time.time()\n",
    "    \n",
    "    # Prepare the performance metrics\n",
    "    metrics = {\n",
    "        'accuracy': accuracy_score(y_test, y_pred),\n",
    "        'training_time': end_time - start_time,\n",
    "        'classification_report': classification_report(y_test, y_pred, output_dict=True)\n",
    "    }\n",
    "    \n",
    "    if verbose:\n",
    "        print(f\"Classification Report:\\n {classification_report(y_test, y_pred)}\")\n",
    "    \n",
    "    return metrics\n",
    "\n"
   ]
  },
  {
   "cell_type": "code",
   "execution_count": 26,
   "metadata": {},
   "outputs": [],
   "source": [
    "from qiskit import transpile\n",
    "import time\n",
    "from qiskit.circuit.library import ZZFeatureMap\n",
    "from qiskit_machine_learning.kernels import FidelityQuantumKernel\n",
    "from qiskit.primitives import Sampler\n",
    "from qiskit_ibm_runtime import QiskitRuntimeService\n",
    "from sklearn.preprocessing import MinMaxScaler\n",
    "from sklearn.metrics import accuracy_score, classification_report\n",
    "import logging\n",
    "\n",
    "# Configure logging\n",
    "logging.basicConfig(level=logging.INFO, format=\"%(asctime)s - %(message)s\")\n",
    "def compute_kernel_matrix(sampler, feature_map, x_vec, y_vec=None):\n",
    "    \"\"\"\n",
    "    Compute the kernel matrix using the Sampler.\n",
    "    \"\"\"\n",
    "    if y_vec is None:\n",
    "        y_vec = x_vec\n",
    "\n",
    "    # Create circuits for all combinations of x_vec and y_vec\n",
    "    circuits = []\n",
    "    for x in x_vec:\n",
    "        for y in y_vec:\n",
    "            qc_x = feature_map.assign_parameters(x)  # Assign x parameters\n",
    "            qc_y = feature_map.assign_parameters(y)  # Assign y parameters\n",
    "            qc = qc_x.compose(qc_y.inverse())  # Combine x and y circuits\n",
    "            circuits.append(qc)\n",
    "\n",
    "    # Transpile and execute circuits\n",
    "    transpiled_circuits = transpile(circuits, backend=sampler)\n",
    "    results = sampler.run(transpiled_circuits).result()\n",
    "\n",
    "    # Extract fidelities\n",
    "    fidelities = np.array(results.fidelities)\n",
    "    return fidelities.reshape(len(x_vec), len(y_vec))\n",
    "\n"
   ]
  },
  {
   "cell_type": "code",
   "execution_count": 27,
   "metadata": {},
   "outputs": [],
   "source": [
    "def quantum_svm_with_backend(X_train, X_test, y_train, y_test, backend_name='ibm_brisbane'):\n",
    "    \"\"\"\n",
    "    Train and evaluate Quantum Support Vector Machine using a real IBM Quantum backend.\n",
    "    \n",
    "    Args:\n",
    "        X_train, X_test: Training and testing feature sets.\n",
    "        y_train, y_test: Training and testing labels.\n",
    "        backend_name: Name of the IBM Quantum backend to use.\n",
    "    \n",
    "    Returns:\n",
    "        Dictionary with performance metrics and training time.\n",
    "    \"\"\"\n",
    "    logging.info(\"Initializing IBM Quantum service.\")\n",
    "    service = QiskitRuntimeService()\n",
    "\n",
    "    # Select the backend\n",
    "    logging.info(f\"Selecting backend: {backend_name}\")\n",
    "    backend = service.backend(backend_name)\n",
    "\n",
    "    # Ensure the feature dimension matches the dataset dimensions\n",
    "    feature_dimension = X_train.shape[1]\n",
    "    logging.info(f\"Feature dimension (number of qubits): {feature_dimension}\")\n",
    "\n",
    "    # Scale data\n",
    "    logging.info(\"Scaling data to [0, 1] range.\")\n",
    "    scaler = MinMaxScaler()\n",
    "    X_train_scaled = scaler.fit_transform(X_train)\n",
    "    X_test_scaled = scaler.transform(X_test)\n",
    "\n",
    "    # Create the feature map\n",
    "    logging.info(\"Creating ZZFeatureMap.\")\n",
    "    feature_map = ZZFeatureMap(feature_dimension, reps=3, entanglement='full')\n",
    "\n",
    "    # Initialize Sampler\n",
    "    sampler = Sampler()\n",
    "\n",
    "    # Compute kernel matrices\n",
    "    logging.info(\"Computing kernel matrix for training.\")\n",
    "    start_time = time.time()\n",
    "    kernel_train = compute_kernel_matrix(sampler, feature_map, X_train_scaled)\n",
    "\n",
    "    logging.info(\"Computing kernel matrix for testing.\")\n",
    "    kernel_test = compute_kernel_matrix(sampler, feature_map, X_test_scaled, X_train_scaled)\n",
    "\n",
    "    # Train classical SVM using the precomputed kernel matrix\n",
    "    logging.info(\"Training classical SVM with quantum kernel.\")\n",
    "    svm = SVC(kernel=\"precomputed\")\n",
    "    svm.fit(kernel_train, y_train)\n",
    "\n",
    "    # Predict\n",
    "    logging.info(\"Making predictions.\")\n",
    "    y_pred = svm.predict(kernel_test)\n",
    "\n",
    "    # End timing\n",
    "    end_time = time.time()\n",
    "    training_time = end_time - start_time\n",
    "    logging.info(f\"Training and testing completed in {training_time:.4f} seconds.\")\n",
    "\n",
    "    # Evaluate results\n",
    "    return {\n",
    "        'accuracy': accuracy_score(y_test, y_pred),\n",
    "        'training_time': training_time,\n",
    "        'classification_report': classification_report(y_test, y_pred)\n",
    "    }\n",
    "   "
   ]
  },
  {
   "cell_type": "code",
   "execution_count": 28,
   "metadata": {},
   "outputs": [],
   "source": [
    "\n",
    "\n",
    "# Scale the features\n",
    "scaler = StandardScaler()\n",
    "X_train = scaler.fit_transform(X_train)\n",
    "X_test = scaler.transform(X_test)"
   ]
  },
  {
   "cell_type": "code",
   "execution_count": 9,
   "metadata": {},
   "outputs": [
    {
     "name": "stdout",
     "output_type": "stream",
     "text": [
      "Classical SVM Results:\n",
      "Accuracy: 0.8500\n",
      "Training Time: 0.0050 seconds\n",
      "{'0': {'precision': 0.85, 'recall': 1.0, 'f1-score': 0.918918918918919, 'support': 17.0}, '1': {'precision': 0.0, 'recall': 0.0, 'f1-score': 0.0, 'support': 3.0}, 'accuracy': 0.85, 'macro avg': {'precision': 0.425, 'recall': 0.5, 'f1-score': 0.4594594594594595, 'support': 20.0}, 'weighted avg': {'precision': 0.7224999999999999, 'recall': 0.85, 'f1-score': 0.7810810810810811, 'support': 20.0}}\n"
     ]
    },
    {
     "name": "stderr",
     "output_type": "stream",
     "text": [
      "/Users/simonwang/path/to/venv/lib/python3.12/site-packages/sklearn/metrics/_classification.py:1517: UndefinedMetricWarning: Precision is ill-defined and being set to 0.0 in labels with no predicted samples. Use `zero_division` parameter to control this behavior.\n",
      "  _warn_prf(average, modifier, f\"{metric.capitalize()} is\", len(result))\n",
      "/Users/simonwang/path/to/venv/lib/python3.12/site-packages/sklearn/metrics/_classification.py:1517: UndefinedMetricWarning: Precision is ill-defined and being set to 0.0 in labels with no predicted samples. Use `zero_division` parameter to control this behavior.\n",
      "  _warn_prf(average, modifier, f\"{metric.capitalize()} is\", len(result))\n",
      "/Users/simonwang/path/to/venv/lib/python3.12/site-packages/sklearn/metrics/_classification.py:1517: UndefinedMetricWarning: Precision is ill-defined and being set to 0.0 in labels with no predicted samples. Use `zero_division` parameter to control this behavior.\n",
      "  _warn_prf(average, modifier, f\"{metric.capitalize()} is\", len(result))\n"
     ]
    }
   ],
   "source": [
    "# Train and evaluate classical SVM\n",
    "classical_results = classical_svm(X_train, X_test, y_train, y_test)\n",
    "print(\"Classical SVM Results:\")\n",
    "print(f\"Accuracy: {classical_results['accuracy']:.4f}\")\n",
    "print(f\"Training Time: {classical_results['training_time']:.4f} seconds\")\n",
    "print(classical_results['classification_report'])\n"
   ]
  },
  {
   "cell_type": "code",
   "execution_count": 10,
   "metadata": {},
   "outputs": [
    {
     "name": "stderr",
     "output_type": "stream",
     "text": [
      "qiskit_runtime_service.__init__:INFO:2024-12-03 11:57:13,563: Default instance: ibm-q/open/main\n"
     ]
    },
    {
     "name": "stdout",
     "output_type": "stream",
     "text": [
      "[<IBMBackend('ibm_brisbane')>, <IBMBackend('ibm_kyiv')>, <IBMBackend('ibm_sherbrooke')>]\n"
     ]
    }
   ],
   "source": [
    "from qiskit_ibm_runtime import QiskitRuntimeService\n",
    "\n",
    "# Initialize the IBM Quantum service\n",
    "service = QiskitRuntimeService()\n",
    "\n",
    "# List available backends\n",
    "print(service.backends())\n"
   ]
  },
  {
   "cell_type": "code",
   "execution_count": 11,
   "metadata": {},
   "outputs": [
    {
     "name": "stderr",
     "output_type": "stream",
     "text": [
      "qiskit_runtime_service.__init__:INFO:2024-12-03 11:57:21,871: Default instance: ibm-q/open/main\n"
     ]
    },
    {
     "name": "stdout",
     "output_type": "stream",
     "text": [
      "Available backends: ['ibm_brisbane', 'ibm_kyiv', 'ibm_sherbrooke']\n",
      "Selected backend: ibm_brisbane\n"
     ]
    }
   ],
   "source": [
    "from qiskit_ibm_runtime import QiskitRuntimeService\n",
    "\n",
    "# Initialize the IBM Quantum service\n",
    "service = QiskitRuntimeService()\n",
    "\n",
    "# List available backends\n",
    "backends = service.backends()\n",
    "print(\"Available backends:\", [backend.name for backend in backends])\n",
    "\n",
    "# Select a backend with sufficient qubits\n",
    "backend = next(backend for backend in backends if backend.configuration().n_qubits >= 5 and not backend.configuration().simulator)\n",
    "print(f\"Selected backend: {backend.name}\")"
   ]
  },
  {
   "cell_type": "code",
   "execution_count": 29,
   "metadata": {},
   "outputs": [
    {
     "name": "stderr",
     "output_type": "stream",
     "text": [
      "2024-12-03 12:15:24,977 - Initializing IBM Quantum service.\n",
      "qiskit_runtime_service.__init__:INFO:2024-12-03 12:15:29,273: Default instance: ibm-q/open/main\n",
      "2024-12-03 12:15:29,274 - Selecting backend: ibm_brisbane\n",
      "2024-12-03 12:15:31,401 - Feature dimension (number of qubits): 17\n",
      "2024-12-03 12:15:31,402 - Scaling data to [0, 1] range.\n",
      "2024-12-03 12:15:31,403 - Creating ZZFeatureMap.\n",
      "/var/folders/8n/5y209hpd0dq56l8hhhtwg25c0000gn/T/ipykernel_11093/3434977756.py:35: DeprecationWarning: The class ``qiskit.primitives.sampler.Sampler`` is deprecated as of qiskit 1.2. It will be removed no earlier than 3 months after the release date. All implementations of the `BaseSamplerV1` interface have been deprecated in favor of their V2 counterparts. The V2 alternative for the `Sampler` class is `StatevectorSampler`.\n",
      "  sampler = Sampler()\n",
      "2024-12-03 12:15:31,403 - Computing kernel matrix for training.\n"
     ]
    },
    {
     "ename": "AttributeError",
     "evalue": "'Sampler' object has no attribute 'configuration'",
     "output_type": "error",
     "traceback": [
      "\u001b[0;31m---------------------------------------------------------------------------\u001b[0m",
      "\u001b[0;31mAttributeError\u001b[0m                            Traceback (most recent call last)",
      "Cell \u001b[0;32mIn[29], line 1\u001b[0m\n\u001b[0;32m----> 1\u001b[0m results \u001b[38;5;241m=\u001b[39m \u001b[43mquantum_svm_with_backend\u001b[49m\u001b[43m(\u001b[49m\u001b[43mX_train\u001b[49m\u001b[43m,\u001b[49m\u001b[43m \u001b[49m\u001b[43mX_test\u001b[49m\u001b[43m,\u001b[49m\u001b[43m \u001b[49m\u001b[43my_train\u001b[49m\u001b[43m,\u001b[49m\u001b[43m \u001b[49m\u001b[43my_test\u001b[49m\u001b[43m,\u001b[49m\u001b[43m \u001b[49m\u001b[43mbackend_name\u001b[49m\u001b[38;5;241;43m=\u001b[39;49m\u001b[38;5;124;43m'\u001b[39;49m\u001b[38;5;124;43mibm_brisbane\u001b[39;49m\u001b[38;5;124;43m'\u001b[39;49m\u001b[43m)\u001b[49m\n\u001b[1;32m      3\u001b[0m \u001b[38;5;28mprint\u001b[39m(\u001b[38;5;124m\"\u001b[39m\u001b[38;5;124mQuantum SVM Results:\u001b[39m\u001b[38;5;124m\"\u001b[39m)\n\u001b[1;32m      4\u001b[0m \u001b[38;5;28mprint\u001b[39m(\u001b[38;5;124mf\u001b[39m\u001b[38;5;124m\"\u001b[39m\u001b[38;5;124mAccuracy: \u001b[39m\u001b[38;5;132;01m{\u001b[39;00mresults[\u001b[38;5;124m'\u001b[39m\u001b[38;5;124maccuracy\u001b[39m\u001b[38;5;124m'\u001b[39m]\u001b[38;5;132;01m:\u001b[39;00m\u001b[38;5;124m.4f\u001b[39m\u001b[38;5;132;01m}\u001b[39;00m\u001b[38;5;124m\"\u001b[39m)\n",
      "Cell \u001b[0;32mIn[27], line 40\u001b[0m, in \u001b[0;36mquantum_svm_with_backend\u001b[0;34m(X_train, X_test, y_train, y_test, backend_name)\u001b[0m\n\u001b[1;32m     38\u001b[0m logging\u001b[38;5;241m.\u001b[39minfo(\u001b[38;5;124m\"\u001b[39m\u001b[38;5;124mComputing kernel matrix for training.\u001b[39m\u001b[38;5;124m\"\u001b[39m)\n\u001b[1;32m     39\u001b[0m start_time \u001b[38;5;241m=\u001b[39m time\u001b[38;5;241m.\u001b[39mtime()\n\u001b[0;32m---> 40\u001b[0m kernel_train \u001b[38;5;241m=\u001b[39m \u001b[43mcompute_kernel_matrix\u001b[49m\u001b[43m(\u001b[49m\u001b[43msampler\u001b[49m\u001b[43m,\u001b[49m\u001b[43m \u001b[49m\u001b[43mfeature_map\u001b[49m\u001b[43m,\u001b[49m\u001b[43m \u001b[49m\u001b[43mX_train_scaled\u001b[49m\u001b[43m)\u001b[49m\n\u001b[1;32m     42\u001b[0m logging\u001b[38;5;241m.\u001b[39minfo(\u001b[38;5;124m\"\u001b[39m\u001b[38;5;124mComputing kernel matrix for testing.\u001b[39m\u001b[38;5;124m\"\u001b[39m)\n\u001b[1;32m     43\u001b[0m kernel_test \u001b[38;5;241m=\u001b[39m compute_kernel_matrix(sampler, feature_map, X_test_scaled, X_train_scaled)\n",
      "Cell \u001b[0;32mIn[26], line 30\u001b[0m, in \u001b[0;36mcompute_kernel_matrix\u001b[0;34m(sampler, feature_map, x_vec, y_vec)\u001b[0m\n\u001b[1;32m     27\u001b[0m         circuits\u001b[38;5;241m.\u001b[39mappend(qc)\n\u001b[1;32m     29\u001b[0m \u001b[38;5;66;03m# Transpile and execute circuits\u001b[39;00m\n\u001b[0;32m---> 30\u001b[0m transpiled_circuits \u001b[38;5;241m=\u001b[39m \u001b[43mtranspile\u001b[49m\u001b[43m(\u001b[49m\u001b[43mcircuits\u001b[49m\u001b[43m,\u001b[49m\u001b[43m \u001b[49m\u001b[43mbackend\u001b[49m\u001b[38;5;241;43m=\u001b[39;49m\u001b[43msampler\u001b[49m\u001b[43m)\u001b[49m\n\u001b[1;32m     31\u001b[0m results \u001b[38;5;241m=\u001b[39m sampler\u001b[38;5;241m.\u001b[39mrun(transpiled_circuits)\u001b[38;5;241m.\u001b[39mresult()\n\u001b[1;32m     33\u001b[0m \u001b[38;5;66;03m# Extract fidelities\u001b[39;00m\n",
      "File \u001b[0;32m~/path/to/venv/lib/python3.12/site-packages/qiskit/utils/deprecation.py:184\u001b[0m, in \u001b[0;36mdeprecate_arg.<locals>.decorator.<locals>.wrapper\u001b[0;34m(*args, **kwargs)\u001b[0m\n\u001b[1;32m    171\u001b[0m \u001b[38;5;129m@functools\u001b[39m\u001b[38;5;241m.\u001b[39mwraps(func)\n\u001b[1;32m    172\u001b[0m \u001b[38;5;28;01mdef\u001b[39;00m \u001b[38;5;21mwrapper\u001b[39m(\u001b[38;5;241m*\u001b[39margs, \u001b[38;5;241m*\u001b[39m\u001b[38;5;241m*\u001b[39mkwargs):\n\u001b[1;32m    173\u001b[0m     _maybe_warn_and_rename_kwarg(\n\u001b[1;32m    174\u001b[0m         args,\n\u001b[1;32m    175\u001b[0m         kwargs,\n\u001b[0;32m   (...)\u001b[0m\n\u001b[1;32m    182\u001b[0m         predicate\u001b[38;5;241m=\u001b[39mpredicate,\n\u001b[1;32m    183\u001b[0m     )\n\u001b[0;32m--> 184\u001b[0m     \u001b[38;5;28;01mreturn\u001b[39;00m \u001b[43mfunc\u001b[49m\u001b[43m(\u001b[49m\u001b[38;5;241;43m*\u001b[39;49m\u001b[43margs\u001b[49m\u001b[43m,\u001b[49m\u001b[43m \u001b[49m\u001b[38;5;241;43m*\u001b[39;49m\u001b[38;5;241;43m*\u001b[39;49m\u001b[43mkwargs\u001b[49m\u001b[43m)\u001b[49m\n",
      "File \u001b[0;32m~/path/to/venv/lib/python3.12/site-packages/qiskit/utils/deprecation.py:184\u001b[0m, in \u001b[0;36mdeprecate_arg.<locals>.decorator.<locals>.wrapper\u001b[0;34m(*args, **kwargs)\u001b[0m\n\u001b[1;32m    171\u001b[0m \u001b[38;5;129m@functools\u001b[39m\u001b[38;5;241m.\u001b[39mwraps(func)\n\u001b[1;32m    172\u001b[0m \u001b[38;5;28;01mdef\u001b[39;00m \u001b[38;5;21mwrapper\u001b[39m(\u001b[38;5;241m*\u001b[39margs, \u001b[38;5;241m*\u001b[39m\u001b[38;5;241m*\u001b[39mkwargs):\n\u001b[1;32m    173\u001b[0m     _maybe_warn_and_rename_kwarg(\n\u001b[1;32m    174\u001b[0m         args,\n\u001b[1;32m    175\u001b[0m         kwargs,\n\u001b[0;32m   (...)\u001b[0m\n\u001b[1;32m    182\u001b[0m         predicate\u001b[38;5;241m=\u001b[39mpredicate,\n\u001b[1;32m    183\u001b[0m     )\n\u001b[0;32m--> 184\u001b[0m     \u001b[38;5;28;01mreturn\u001b[39;00m \u001b[43mfunc\u001b[49m\u001b[43m(\u001b[49m\u001b[38;5;241;43m*\u001b[39;49m\u001b[43margs\u001b[49m\u001b[43m,\u001b[49m\u001b[43m \u001b[49m\u001b[38;5;241;43m*\u001b[39;49m\u001b[38;5;241;43m*\u001b[39;49m\u001b[43mkwargs\u001b[49m\u001b[43m)\u001b[49m\n",
      "    \u001b[0;31m[... skipping similar frames: deprecate_arg.<locals>.decorator.<locals>.wrapper at line 184 (1 times)]\u001b[0m\n",
      "File \u001b[0;32m~/path/to/venv/lib/python3.12/site-packages/qiskit/utils/deprecation.py:184\u001b[0m, in \u001b[0;36mdeprecate_arg.<locals>.decorator.<locals>.wrapper\u001b[0;34m(*args, **kwargs)\u001b[0m\n\u001b[1;32m    171\u001b[0m \u001b[38;5;129m@functools\u001b[39m\u001b[38;5;241m.\u001b[39mwraps(func)\n\u001b[1;32m    172\u001b[0m \u001b[38;5;28;01mdef\u001b[39;00m \u001b[38;5;21mwrapper\u001b[39m(\u001b[38;5;241m*\u001b[39margs, \u001b[38;5;241m*\u001b[39m\u001b[38;5;241m*\u001b[39mkwargs):\n\u001b[1;32m    173\u001b[0m     _maybe_warn_and_rename_kwarg(\n\u001b[1;32m    174\u001b[0m         args,\n\u001b[1;32m    175\u001b[0m         kwargs,\n\u001b[0;32m   (...)\u001b[0m\n\u001b[1;32m    182\u001b[0m         predicate\u001b[38;5;241m=\u001b[39mpredicate,\n\u001b[1;32m    183\u001b[0m     )\n\u001b[0;32m--> 184\u001b[0m     \u001b[38;5;28;01mreturn\u001b[39;00m \u001b[43mfunc\u001b[49m\u001b[43m(\u001b[49m\u001b[38;5;241;43m*\u001b[39;49m\u001b[43margs\u001b[49m\u001b[43m,\u001b[49m\u001b[43m \u001b[49m\u001b[38;5;241;43m*\u001b[39;49m\u001b[38;5;241;43m*\u001b[39;49m\u001b[43mkwargs\u001b[49m\u001b[43m)\u001b[49m\n",
      "File \u001b[0;32m~/path/to/venv/lib/python3.12/site-packages/qiskit/compiler/transpiler.py:370\u001b[0m, in \u001b[0;36mtranspile\u001b[0;34m(circuits, backend, basis_gates, inst_map, coupling_map, backend_properties, initial_layout, layout_method, routing_method, translation_method, scheduling_method, instruction_durations, dt, approximation_degree, timing_constraints, seed_transpiler, optimization_level, callback, output_name, unitary_synthesis_method, unitary_synthesis_plugin_config, target, hls_config, init_method, optimization_method, ignore_backend_supplied_default_methods, num_processes, qubits_initially_zero)\u001b[0m\n\u001b[1;32m    357\u001b[0m     \u001b[38;5;28;01mwith\u001b[39;00m warnings\u001b[38;5;241m.\u001b[39mcatch_warnings():\n\u001b[1;32m    358\u001b[0m         \u001b[38;5;66;03m# This is a temporary conversion step to allow for a smoother transition\u001b[39;00m\n\u001b[1;32m    359\u001b[0m         \u001b[38;5;66;03m# to a fully target-based transpiler pipeline while maintaining the behavior\u001b[39;00m\n\u001b[0;32m   (...)\u001b[0m\n\u001b[1;32m    362\u001b[0m         \u001b[38;5;66;03m#   removed once it gets removed:\u001b[39;00m\n\u001b[1;32m    363\u001b[0m         \u001b[38;5;66;03m#   https://github.com/Qiskit/qiskit/pull/12850\u001b[39;00m\n\u001b[1;32m    364\u001b[0m         warnings\u001b[38;5;241m.\u001b[39mfilterwarnings(\n\u001b[1;32m    365\u001b[0m             \u001b[38;5;124m\"\u001b[39m\u001b[38;5;124mignore\u001b[39m\u001b[38;5;124m\"\u001b[39m,\n\u001b[1;32m    366\u001b[0m             category\u001b[38;5;241m=\u001b[39m\u001b[38;5;167;01mDeprecationWarning\u001b[39;00m,\n\u001b[1;32m    367\u001b[0m             message\u001b[38;5;241m=\u001b[39m\u001b[38;5;124mr\u001b[39m\u001b[38;5;124m\"\u001b[39m\u001b[38;5;124m.+qiskit\u001b[39m\u001b[38;5;124m\\\u001b[39m\u001b[38;5;124m.providers\u001b[39m\u001b[38;5;124m\\\u001b[39m\u001b[38;5;124m.backend_compat\u001b[39m\u001b[38;5;124m\\\u001b[39m\u001b[38;5;124m.BackendV2Converter.+\u001b[39m\u001b[38;5;124m\"\u001b[39m,\n\u001b[1;32m    368\u001b[0m             module\u001b[38;5;241m=\u001b[39m\u001b[38;5;124m\"\u001b[39m\u001b[38;5;124mqiskit\u001b[39m\u001b[38;5;124m\"\u001b[39m,\n\u001b[1;32m    369\u001b[0m         )\n\u001b[0;32m--> 370\u001b[0m         backend \u001b[38;5;241m=\u001b[39m \u001b[43mBackendV2Converter\u001b[49m\u001b[43m(\u001b[49m\u001b[43mbackend\u001b[49m\u001b[43m)\u001b[49m\n\u001b[1;32m    372\u001b[0m \u001b[38;5;28;01mif\u001b[39;00m (\n\u001b[1;32m    373\u001b[0m     scheduling_method \u001b[38;5;129;01mis\u001b[39;00m \u001b[38;5;129;01mnot\u001b[39;00m \u001b[38;5;28;01mNone\u001b[39;00m\n\u001b[1;32m    374\u001b[0m     \u001b[38;5;129;01mand\u001b[39;00m backend \u001b[38;5;129;01mis\u001b[39;00m \u001b[38;5;28;01mNone\u001b[39;00m\n\u001b[1;32m    375\u001b[0m     \u001b[38;5;129;01mand\u001b[39;00m target \u001b[38;5;129;01mis\u001b[39;00m \u001b[38;5;28;01mNone\u001b[39;00m\n\u001b[1;32m    376\u001b[0m     \u001b[38;5;129;01mand\u001b[39;00m \u001b[38;5;129;01mnot\u001b[39;00m instruction_durations\n\u001b[1;32m    377\u001b[0m ):\n\u001b[1;32m    378\u001b[0m     warnings\u001b[38;5;241m.\u001b[39mwarn(\n\u001b[1;32m    379\u001b[0m         \u001b[38;5;124m\"\u001b[39m\u001b[38;5;124mWhen scheduling circuits without backend,\u001b[39m\u001b[38;5;124m\"\u001b[39m\n\u001b[1;32m    380\u001b[0m         \u001b[38;5;124m\"\u001b[39m\u001b[38;5;124m \u001b[39m\u001b[38;5;124m'\u001b[39m\u001b[38;5;124minstruction_durations\u001b[39m\u001b[38;5;124m'\u001b[39m\u001b[38;5;124m should be usually provided.\u001b[39m\u001b[38;5;124m\"\u001b[39m,\n\u001b[1;32m    381\u001b[0m         \u001b[38;5;167;01mUserWarning\u001b[39;00m,\n\u001b[1;32m    382\u001b[0m     )\n",
      "File \u001b[0;32m~/path/to/venv/lib/python3.12/site-packages/qiskit/providers/backend_compat.py:397\u001b[0m, in \u001b[0;36mBackendV2Converter.__init__\u001b[0;34m(self, backend, name_mapping, add_delay, filter_faulty)\u001b[0m\n\u001b[1;32m    378\u001b[0m \u001b[38;5;250m\u001b[39m\u001b[38;5;124;03m\"\"\"Initialize a BackendV2 converter instance based on a BackendV1 instance.\u001b[39;00m\n\u001b[1;32m    379\u001b[0m \n\u001b[1;32m    380\u001b[0m \u001b[38;5;124;03mArgs:\u001b[39;00m\n\u001b[0;32m   (...)\u001b[0m\n\u001b[1;32m    394\u001b[0m \u001b[38;5;124;03m        those from the output target.\u001b[39;00m\n\u001b[1;32m    395\u001b[0m \u001b[38;5;124;03m\"\"\"\u001b[39;00m\n\u001b[1;32m    396\u001b[0m \u001b[38;5;28mself\u001b[39m\u001b[38;5;241m.\u001b[39m_backend \u001b[38;5;241m=\u001b[39m backend\n\u001b[0;32m--> 397\u001b[0m \u001b[38;5;28mself\u001b[39m\u001b[38;5;241m.\u001b[39m_config \u001b[38;5;241m=\u001b[39m \u001b[38;5;28;43mself\u001b[39;49m\u001b[38;5;241;43m.\u001b[39;49m\u001b[43m_backend\u001b[49m\u001b[38;5;241;43m.\u001b[39;49m\u001b[43mconfiguration\u001b[49m()\n\u001b[1;32m    398\u001b[0m \u001b[38;5;28msuper\u001b[39m()\u001b[38;5;241m.\u001b[39m\u001b[38;5;21m__init__\u001b[39m(\n\u001b[1;32m    399\u001b[0m     provider\u001b[38;5;241m=\u001b[39mbackend\u001b[38;5;241m.\u001b[39mprovider,\n\u001b[1;32m    400\u001b[0m     name\u001b[38;5;241m=\u001b[39mbackend\u001b[38;5;241m.\u001b[39mname(),\n\u001b[0;32m   (...)\u001b[0m\n\u001b[1;32m    403\u001b[0m     backend_version\u001b[38;5;241m=\u001b[39m\u001b[38;5;28mself\u001b[39m\u001b[38;5;241m.\u001b[39m_config\u001b[38;5;241m.\u001b[39mbackend_version,\n\u001b[1;32m    404\u001b[0m )\n\u001b[1;32m    405\u001b[0m \u001b[38;5;28mself\u001b[39m\u001b[38;5;241m.\u001b[39m_options \u001b[38;5;241m=\u001b[39m \u001b[38;5;28mself\u001b[39m\u001b[38;5;241m.\u001b[39m_backend\u001b[38;5;241m.\u001b[39m_options\n",
      "\u001b[0;31mAttributeError\u001b[0m: 'Sampler' object has no attribute 'configuration'"
     ]
    }
   ],
   "source": [
    "\n",
    "results = quantum_svm_with_backend(X_train, X_test, y_train, y_test, backend_name='ibm_brisbane')\n",
    "\n",
    "print(\"Quantum SVM Results:\")\n",
    "print(f\"Accuracy: {results['accuracy']:.4f}\")\n",
    "print(f\"Training Time: {results['training_time']:.4f} seconds\")\n",
    "print(\"Classification Report:\")\n",
    "print(results['classification_report'])"
   ]
  },
  {
   "cell_type": "code",
   "execution_count": null,
   "metadata": {},
   "outputs": [],
   "source": []
  },
  {
   "cell_type": "code",
   "execution_count": null,
   "metadata": {},
   "outputs": [],
   "source": []
  }
 ],
 "metadata": {
  "kernelspec": {
   "display_name": "Python (venv)",
   "language": "python",
   "name": "venv"
  },
  "language_info": {
   "codemirror_mode": {
    "name": "ipython",
    "version": 3
   },
   "file_extension": ".py",
   "mimetype": "text/x-python",
   "name": "python",
   "nbconvert_exporter": "python",
   "pygments_lexer": "ipython3",
   "version": "3.12.7"
  }
 },
 "nbformat": 4,
 "nbformat_minor": 2
}
